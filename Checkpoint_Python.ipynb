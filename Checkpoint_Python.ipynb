{
  "nbformat": 4,
  "nbformat_minor": 0,
  "metadata": {
    "colab": {
      "name": "Checkpoint Python",
      "provenance": [],
      "authorship_tag": "ABX9TyNkvGpV4qSi5JyHNAJ9gUdx",
      "include_colab_link": true
    },
    "kernelspec": {
      "name": "python3",
      "display_name": "Python 3"
    },
    "language_info": {
      "name": "python"
    }
  },
  "cells": [
    {
      "cell_type": "markdown",
      "metadata": {
        "id": "view-in-github",
        "colab_type": "text"
      },
      "source": [
        "<a href=\"https://colab.research.google.com/github/mxrixA/Gomycode/blob/main/Checkpoint_Python.ipynb\" target=\"_parent\"><img src=\"https://colab.research.google.com/assets/colab-badge.svg\" alt=\"Open In Colab\"/></a>"
      ]
    },
    {
      "cell_type": "code",
      "metadata": {
        "colab": {
          "base_uri": "https://localhost:8080/"
        },
        "id": "EchKspnb5KEY",
        "outputId": "13da48dd-8d85-44a5-db16-f7cec13846a1"
      },
      "source": [
        "#Exercice 01\n",
        "listt=[]\n",
        "for x in range(2000,3201):\n",
        "  if x%7 ==0 and x%5 > 0:\n",
        "    listt.append(x)\n",
        "print(listt)\n",
        "    \n",
        "  \n",
        "    \n"
      ],
      "execution_count": null,
      "outputs": [
        {
          "output_type": "stream",
          "name": "stdout",
          "text": [
            "[2002, 2009, 2016, 2023, 2037, 2044, 2051, 2058, 2072, 2079, 2086, 2093, 2107, 2114, 2121, 2128, 2142, 2149, 2156, 2163, 2177, 2184, 2191, 2198, 2212, 2219, 2226, 2233, 2247, 2254, 2261, 2268, 2282, 2289, 2296, 2303, 2317, 2324, 2331, 2338, 2352, 2359, 2366, 2373, 2387, 2394, 2401, 2408, 2422, 2429, 2436, 2443, 2457, 2464, 2471, 2478, 2492, 2499, 2506, 2513, 2527, 2534, 2541, 2548, 2562, 2569, 2576, 2583, 2597, 2604, 2611, 2618, 2632, 2639, 2646, 2653, 2667, 2674, 2681, 2688, 2702, 2709, 2716, 2723, 2737, 2744, 2751, 2758, 2772, 2779, 2786, 2793, 2807, 2814, 2821, 2828, 2842, 2849, 2856, 2863, 2877, 2884, 2891, 2898, 2912, 2919, 2926, 2933, 2947, 2954, 2961, 2968, 2982, 2989, 2996, 3003, 3017, 3024, 3031, 3038, 3052, 3059, 3066, 3073, 3087, 3094, 3101, 3108, 3122, 3129, 3136, 3143, 3157, 3164, 3171, 3178, 3192, 3199]\n"
          ]
        }
      ]
    },
    {
      "cell_type": "code",
      "metadata": {
        "colab": {
          "base_uri": "https://localhost:8080/"
        },
        "id": "Ds2pKbxW9lxy",
        "outputId": "53a6c035-0fb3-4ab8-f843-97631e094b07"
      },
      "source": [
        "#Exercice 02\n",
        "x=int(input())\n",
        "fact=x\n",
        "for n in range(1,x,1):\n",
        "  y=x-n\n",
        "  fact=fact*y\n",
        "print(fact)  \n"
      ],
      "execution_count": null,
      "outputs": [
        {
          "output_type": "stream",
          "name": "stdout",
          "text": [
            "5\n",
            "120\n"
          ]
        }
      ]
    },
    {
      "cell_type": "code",
      "metadata": {
        "colab": {
          "base_uri": "https://localhost:8080/"
        },
        "id": "N_lFn0T9HUcF",
        "outputId": "b7da318c-54d7-45c4-9a77-315f10db86a3"
      },
      "source": [
        "#Exercice 03\n",
        "n=7\n",
        "y={1:1}\n",
        "for i in range (1,n+1):\n",
        "  y[i]=i*i\n",
        "print(y)\n"
      ],
      "execution_count": null,
      "outputs": [
        {
          "output_type": "stream",
          "name": "stdout",
          "text": [
            "{1: 1, 2: 4, 3: 9, 4: 16, 5: 25, 6: 36, 7: 49}\n"
          ]
        }
      ]
    },
    {
      "cell_type": "code",
      "metadata": {
        "colab": {
          "base_uri": "https://localhost:8080/",
          "height": 132
        },
        "id": "WCQIKxPcLHWr",
        "outputId": "5b501000-01e4-428b-bef8-14a237ea22b7"
      },
      "source": [
        "#Exercice 04\n",
        "x=\"kegjkdggo\"\n",
        "for n in x: \n",
        "  "
      ],
      "execution_count": null,
      "outputs": [
        {
          "output_type": "error",
          "ename": "SyntaxError",
          "evalue": "ignored",
          "traceback": [
            "\u001b[0;36m  File \u001b[0;32m\"<ipython-input-46-3cd633fc2040>\"\u001b[0;36m, line \u001b[0;32m4\u001b[0m\n\u001b[0;31m    y=x.del(\"e\")\u001b[0m\n\u001b[0m          ^\u001b[0m\n\u001b[0;31mSyntaxError\u001b[0m\u001b[0;31m:\u001b[0m invalid syntax\n"
          ]
        }
      ]
    },
    {
      "cell_type": "code",
      "metadata": {
        "colab": {
          "base_uri": "https://localhost:8080/"
        },
        "id": "QlqI_yjXWQlT",
        "outputId": "76693c95-29f2-4321-a376-94546c64bc77"
      },
      "source": [
        "#Exercice 05\n",
        "import numpy as np\n",
        "array=np.array([[1,2,3],[4,5,6],[7,8,9]])\n",
        "print(array)\n",
        "list1=array.tolist()\n",
        "print(list1)"
      ],
      "execution_count": null,
      "outputs": [
        {
          "output_type": "stream",
          "name": "stdout",
          "text": [
            "[[1 2 3]\n",
            " [4 5 6]\n",
            " [7 8 9]]\n",
            "[[1, 2, 3], [4, 5, 6], [7, 8, 9]]\n"
          ]
        }
      ]
    },
    {
      "cell_type": "code",
      "metadata": {
        "colab": {
          "base_uri": "https://localhost:8080/"
        },
        "id": "vhr0G94nYGPF",
        "outputId": "fd4aa93a-0e95-4156-9154-fbba3e6f530e"
      },
      "source": [
        "#Exercice 06\n",
        "import numpy as np\n",
        "arr1=np.array([1,2,3])\n",
        "arr2=np.array([7,8,9])\n",
        "data = np.array([arr1,arr2])\n",
        "covMatrix = np.cov(data,bias=True)\n",
        "print (covMatrix)"
      ],
      "execution_count": null,
      "outputs": [
        {
          "output_type": "stream",
          "name": "stdout",
          "text": [
            "[[0.66666667 0.66666667]\n",
            " [0.66666667 0.66666667]]\n"
          ]
        }
      ]
    },
    {
      "cell_type": "code",
      "metadata": {
        "id": "ZOg6pjyUojSj",
        "colab": {
          "base_uri": "https://localhost:8080/"
        },
        "outputId": "1733ba05-09af-4a55-9cfa-2a853ff70e3b"
      },
      "source": [
        "#Exercice07\n",
        "import numpy as np\n",
        "H = 30\n",
        "C = 50\n",
        "D1, D2, D3 = [int(x) for x in input(\"Enter three value: \").split(\",\")]\n",
        "Q1 = np.sqrt((2 * C * D1)/H)\n",
        "Q2 = np.sqrt((2 * C * D2)/H)\n",
        "Q3 = np.sqrt((2 * C * D3)/H)\n",
        "z=(list((Q1,Q2,Q3)))\n",
        "for i in range(0, len(z)):\n",
        "    z[i] = round(z[i])\n",
        "z\n",
        "\n",
        "\n"
      ],
      "execution_count": 21,
      "outputs": [
        {
          "name": "stdout",
          "output_type": "stream",
          "text": [
            "Enter three value: 5,9,55\n"
          ]
        },
        {
          "output_type": "execute_result",
          "data": {
            "text/plain": [
              "[4, 5, 14]"
            ]
          },
          "metadata": {},
          "execution_count": 21
        }
      ]
    }
  ]
}